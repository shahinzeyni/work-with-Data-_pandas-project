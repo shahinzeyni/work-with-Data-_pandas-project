{
  "cells": [
    {
      "cell_type": "markdown",
      "metadata": {
        "id": "yYk1yC_aTaZs"
      },
      "source": [
        "# **تعطیلات رسمی ایران از 1370 تا 1430**\n",
        "\n",
        "> در این پروژ یک دیتاست در اختیار شما قرار می دهیم و سوالاتی را طرح کرده‌ایم. ابتدا دیتاست را دانلود خواهید کرد و یک به یک به سوالات پاسخ خواهید داد. این پروژه را در یک فایل **ژوپیتر پایتون** ارسال کنید. \n",
        "\n",
        "\n",
        "\n",
        "\n",
        "</center>\n"
      ]
    },
    {
      "cell_type": "markdown",
      "metadata": {},
      "source": []
    },
    {
      "cell_type": "markdown",
      "metadata": {
        "id": "hyYqgFReT4x1"
      },
      "source": [
        
        "\n",
       
      ]
    },
    {
      "cell_type": "markdown",
      "metadata": {
        "id": "loUrbOb_veG4"
      },
      "source": [
        "# **دانلود داده**\n",
        "\n",
        "این دیتاست از سایت زیر جمع اوری شده است:\n",
        "\n",
        "https://www.time.ir/\n",
        "\n",
        ":ابتدا دیتاست را از آدرس زیر دانلود کنید \n",
        "\n",
     
      ]
    },
    {
      "cell_type": "code",
      "execution_count": null,
      "metadata": {},
      "outputs": [],
      "source": []
    },
    {
      "cell_type": "code",
      "execution_count": 2,
      "metadata": {
        "colab": {
          "base_uri": "https://localhost:8080/"
        },
        "id": "lFmHP3thegiO",
        "outputId": "b956d500-4fd9-46f8-a0f3-742cabc42672"
      },
      "outputs": [
        {
          "name": "stderr",
          "output_type": "stream",
          "text": [
            "'wget' is not recognized as an internal or external command,\n",
            "operable program or batch file.\n"
          ]
        }
      ],
      "source": [
        "!wget https://github.com/Amin-Golzari-Oskouei/Python-Programming-Course-Advanced-2021/blob/main/Pandas%20Project/iran_holidays.csv"
      ]
    },
    {
      "cell_type": "markdown",
      "metadata": {
        "id": "ura210JawgVL"
      },
      "source": [
        "# وارد کردن پکیج ها"
      ]
    },
    {
      "cell_type": "code",
      "execution_count": 3,
      "metadata": {
        "id": "Q9aHR6Ytwd9x"
      },
      "outputs": [],
      "source": [
        "import pandas as pd\n",
        "import numpy as np\n",
        "import matplotlib.pyplot as plt\n",
        "import seaborn as sns\n",
        "import plotly.express as px\n",
        "\n",
        "sns.set_style('dark')"
      ]
    },
    {
      "cell_type": "markdown",
      "metadata": {
        "id": "dAFWre4kiBSj"
      },
      "source": [
        "# ابزارهای متن و ماه فارسی"
      ]
    },
    {
      "cell_type": "code",
      "execution_count": 4,
      "metadata": {
        "id": "GDwnGvenatoK"
      },
      "outputs": [],
      "source": [
        "j_months_fa = [\n",
        "    u'فروردین',\n",
        "    u'اردیبهشت',\n",
        "    u'خرداد',\n",
        "    u'تیر',\n",
        "    u'اَمرداد',\n",
        "    u'شهریور',\n",
        "    u'مهر',\n",
        "    u'آبان',\n",
        "    u'آذر',\n",
        "    u'دی',\n",
        "    u'بهمن',\n",
        "    u'اسفند',\n",
        "]"
      ]
    },
    {
      "cell_type": "code",
      "execution_count": 5,
      "metadata": {
        "id": "Zn0j4Eq0h5O8"
      },
      "outputs": [],
      "source": [
        "def replace_text(word):\n",
        "    replacements = {'پ': '\\u067e', 'چ': '\\u0686', 'ج': '\\u062c', 'ح': '\\u062d', 'خ': '\\u062e', 'ه': '\\u0647',\n",
        "                    'ع': '\\u0639', 'غ': '\\u063a', 'ف': '\\u0641', 'ق': '\\u0642', 'ث': '\\u062b', 'ص': '\\u0635',\n",
        "                    'ض': '\\u0636', 'گ': '\\u06af', 'ک': '\\u06a9', 'م': '\\u0645', 'ن': '\\u0646', 'ت': '\\u062a',\n",
        "                    'ا': '\\u0627', 'ل': '\\u0644', 'ب': '\\u0628', 'ي': '\\u06cc', 'س': '\\u0633', 'ش': '\\u0634',\n",
        "                    'و': '\\u0648', 'ئ': '\\u0626', 'د': '\\u062f', 'ذ': '\\u0630', 'ر': '\\u0631', 'ز': '\\u0632',\n",
        "                    'ط': '\\u0637', 'ظ': '\\u0638', 'ژ': '\\u0698', 'آ': '\\u0622', 'ي': '\\u064a', '؟': '\\u061f',\n",
        "                    'ك': '\\u06a9', 'ي': 'ی'}\n",
        "    for src, target in replacements.items():\n",
        "        word = word.replace(src, target)\n",
        "\n",
        "    return word\n"
      ]
    },
    {
      "cell_type": "markdown",
      "metadata": {
        "id": "Z4NmRCztwo6B"
      },
      "source": [
        "# خواندن داده و اضافه کردن ویژگی‌ها به دیتافریم"
      ]
    },
    {
      "cell_type": "code",
      "execution_count": 6,
      "metadata": {
        "id": "qmgLdUQ-woUF"
      },
      "outputs": [],
      "source": [
        "\n",
        "df = pd.read_csv('iran_holidays.csv')\n",
        "df['date'] = pd.to_datetime(df['date'])\n",
        "\n",
        "del df['Unnamed: 0']\n",
        "df['week_day'] = df['date'].dt.day_name() # add day of week to the dataframe\n",
        "df['year'] = df['fa_date'].apply(lambda x: str(x)[:4]) # add year to the dataframe\n",
        "df['month'] = df['fa_date'].apply(lambda x: str(x)[4:6]) # add month\n",
        "df['day'] = df['fa_date'].apply(lambda x: str(x)[6:]) # add day\n",
        "df.head()\n",
        "df['reason'] = df['reason'].apply(replace_text)\n"
      ]
    },
    {
      "cell_type": "code",
      "execution_count": 7,
      "metadata": {
        "id": "fUQZOHAHa7Nz"
      },
      "outputs": [
        {
          "name": "stderr",
          "output_type": "stream",
          "text": [
            "C:\\Users\\zeyni\\AppData\\Local\\Temp\\ipykernel_16068\\3942777044.py:1: FutureWarning: The default value of regex will change from True to False in a future version.\n",
            "  df['reason'] = df['reason'].str.replace('\\d+', '') # replace numbers\n"
          ]
        }
      ],
      "source": [
        "df['reason'] = df['reason'].str.replace('\\d+', '') # replace numbers\n",
        "for m in j_months_fa:\n",
        "  df['reason'] = df['reason'].str.replace(m, '') # replace every month with empty\n",
        "df['reason'] = df['reason'].str.strip()\n",
        "df['reason'] = df['reason'].replace('\\s+', ' ', regex=True)"
      ]
    },
    {
      "cell_type": "code",
      "execution_count": 8,
      "metadata": {
        "id": "Tmy6LyLhcgEQ"
      },
      "outputs": [
        {
          "data": {
            "text/plain": [
              "['جشن نوروز/جشن سال نو',\n",
              " 'عیدنوروز',\n",
              " 'روز جمهوری اسلامی',\n",
              " 'جشن سیزده به در',\n",
              " 'شهادت حضرت علی علیه السلام[ رمضان ]',\n",
              " 'عید سعید فطر[ شوال ]',\n",
              " 'تعطیل به مناسبت عید سعید فطر[ شوال ]',\n",
              " 'شهادت امام جعفر صادق علیه السلام[ شوال ]',\n",
              " 'رحلت حضرت امام خمینی',\n",
              " 'قیام',\n",
              " 'عید سعید قربان[ ذوالحجه ]',\n",
              " 'عید سعید غر خم[ ذوالحجه ]',\n",
              " 'تاسوعای حسینی[ محرم ]',\n",
              " 'عاشورای حسینی[ محرم ]',\n",
              " 'اربعین حسینی[ صفر ]',\n",
              " 'رحلترسول اکرم؛شهادت امام حسن مجتبی علیه السلام[ صفر ]',\n",
              " 'شهادت امام رضا علیه السلام[ صفر ]',\n",
              " 'شهادت امام حسن عسکری علیه السلام[ ربیع الاول ]',\n",
              " 'میلاد رسول اکرم و امام جعفر صادق علیه السلام[ ربیع الاول ]',\n",
              " 'شهادت حضرت فاطمه زهرا سلام الله علیها[ جما الثانیه ]',\n",
              " 'ولادت امام علی علیه السلام و روز پدر[ رجب ]',\n",
              " 'مبعث رسول اکرم (ص)[ رجب ]',\n",
              " 'پیروزی انقلاب اسلامی',\n",
              " 'ولادت حضرت قائم عجل الله تعالی فرجه و جشن نیمه شعبان[ شعبان ]',\n",
              " 'روز ملی شدن صنعت نفت ایران',\n",
              " 'آخرین روز سال']"
            ]
          },
          "execution_count": 8,
          "metadata": {},
          "output_type": "execute_result"
        }
      ],
      "source": [
        "list(df['reason'].unique())"
      ]
    },
    {
      "cell_type": "markdown",
      "metadata": {
        "id": "ZF7Vm_81baOE"
      },
      "source": [
        "# سوال یک: تعداد کل تعطیلات در این سال‌ها چقدر است؟"
      ]
    },
    {
      "cell_type": "code",
      "execution_count": 9,
      "metadata": {
        "id": "v22wPEo6MLn3"
      },
      "outputs": [
        {
          "data": {
            "text/plain": [
              "1694"
            ]
          },
          "execution_count": 9,
          "metadata": {},
          "output_type": "execute_result"
        }
      ],
      "source": [
        "All_count_columns =  df[df.columns[0]].count()\n",
        "All_count_columns\n",
        "\n",
        "# کامنت کنید و سپس به سوال بعدی بروید"
      ]
    },
    {
      "cell_type": "markdown",
      "metadata": {
        "id": "OYXMpuRxby3c"
      },
      "source": [
        "# سوال دو: با در نظر گرفتن روز جمعه، میانگین تعطیلات در کل این سال ها چقدر است؟"
      ]
    },
    {
      "cell_type": "code",
      "execution_count": 10,
      "metadata": {
        "id": "Slalb0fDbyRT"
      },
      "outputs": [],
      "source": [
        "# x = df['fa_date']\n",
        "# ltt = []\n",
        "# for i in x:\n",
        "#     lst = []\n",
        "#     t = str(i)[2:4]\n",
        "#     lst.append(t)\n",
        "#     ltt.extend(lst)\n",
        "#     d1={}\n",
        "#     for j in ltt:\n",
        "#         d1[j]=d1.get(j,0)+1\n",
        "# print(d1)\n",
        "\n",
        "\n",
        "\n",
        "# کامنت کنید و سپس به سوال بعدی بروید\n",
        "\n",
        "\n",
        "# F_mean_year = df['year']\n",
        "# mean_year = F_mean_year.value_counts()\n",
        "# mean_year.mean()\n"
      ]
    },
    {
      "cell_type": "markdown",
      "metadata": {},
      "source": []
    },
    {
      "cell_type": "markdown",
      "metadata": {
        "id": "bokjO_28byG8"
      },
      "source": [
        "# سوال سه: با در نظر نگرفتن روزهای جمعه، میانگین تعطیلات در کل این سال ها چقدر است؟"
      ]
    },
    {
      "cell_type": "code",
      "execution_count": 11,
      "metadata": {
        "id": "5BzugoIjcbY3"
      },
      "outputs": [],
      "source": [
        "# Friday_count = df[df['week_day']=='Friday']=0\n",
        "# GG_1 = df.replace([Friday_count])\n",
        "# mean_year_fri = GG_1.value_counts()\n",
        "# mean_year_fri.mean()\n",
        "\n",
        "# # کامنت کنید و سپس به سوال بعدی بروید"
      ]
    },
    {
      "cell_type": "markdown",
      "metadata": {
        "id": "UcEG-_xbcb1r"
      },
      "source": [
        "# سوال چهار: در کل این سال ها کدام روز هفته کمترین و کدام روز هفته بیشترین تعطیلات را دارند؟\n",
        "\n",
        "# با نمودار میله ای نشان دهید از شنبه تا پنج شنبه"
      ]
    },
    {
      "cell_type": "code",
      "execution_count": 12,
      "metadata": {
        "id": "2-8yqXt3cbWJ"
      },
      "outputs": [],
      "source": [
        "# week = df['week_day']\n",
        "# Wekk_long = week.value_counts()\n",
        "# Wekk_long\n",
        "# Max=Wekk_long.max()\n",
        "# Min=Wekk_long.min()\n",
        "# imax=Wekk_long.idxmax()\n",
        "# imin=Wekk_long.idxmin()\n",
        "# fig = plt.figure()\n",
        "# ax = fig.add_axes([1,0,2,2])\n",
        "# ss = [Max,Min]\n",
        "# lan = [imax,imin]\n",
        "# ax.bar(lan,ss)\n",
        "# plt.show\n",
        "\n",
        "\n",
        "# کامنت کنید و سپس به سوال بعدی بروید"
      ]
    },
    {
      "cell_type": "markdown",
      "metadata": {
        "id": "-F7YBJsxcogD"
      },
      "source": [
        "# سوال پنج: در کل این سال ها بیشترین تعطیلات و کمترین تعطیلات مربوط به کدام سال است؟\n",
        "# با نمودار میله ای نشان دهید از 1370 تا 1430\n"
      ]
    },
    {
      "cell_type": "code",
      "execution_count": 13,
      "metadata": {
        "id": "PP5hENVNcbTr"
      },
      "outputs": [],
      "source": [
        "# yyear= df['year']\n",
        "# Year_vacation = yyear.value_counts()\n",
        "# Max=Year_vacation.max()\n",
        "# Min=Year_vacation.min()\n",
        "# imax=Year_vacation.idxmax()\n",
        "# imin=Year_vacation.idxmin()\n",
        "# fig = plt.figure()\n",
        "# ax = fig.add_axes([1,0,2,2])\n",
        "# ss = [Max,Min]\n",
        "# lan = [imax,imin]\n",
        "# ax.bar(lan,ss)\n",
        "# plt.show\n",
        "\n",
        "# چند مورد از سال ها دارای 27 روز تعطیلی هست\n",
        "# کامنت کنید و سپس به سوال بعدی بروید"
      ]
    },
    {
      "cell_type": "markdown",
      "metadata": {
        "id": "M5aQUH2rdbZ6"
      },
      "source": [
        "# سوال شش: بیشترین و کمترین تعطیلی متعلق کدام مناسبت است؟ \n",
        "# تعطیلات عید نوروز را در نظر نگیرید\n",
        "# با نمودار نشان دهید\n",
        "\n",
        "\n",
        "\n",
        "\n",
        "\n"
      ]
    },
    {
      "cell_type": "code",
      "execution_count": 14,
      "metadata": {
        "id": "71RWf5ThcbRT"
      },
      "outputs": [],
      "source": [
        "# G_F = df[df['reason']=='عیدنوروز']=0\n",
        "# f_H = df.replace([G_F])\n",
        "# w_O = f_H.value_counts()\n",
        "\n",
        "\n",
        "# weekk = df['reason']\n",
        "# ww = weekk.value_counts()\n",
        "\n",
        "# E_D = ww.drop([0])\n",
        "# E_D\n",
        "# Max=E_D.max()\n",
        "# Min=E_D.min()\n",
        "# imax=E_D.idxmax()\n",
        "# imin=E_D.idxmin()\n",
        "\n",
        "# fig = plt.figure()\n",
        "# ax = fig.add_axes([1,0,2,2])\n",
        "# ss = [Max,Min]\n",
        "# lan = [imax,imin]\n",
        "# ax.bar(lan,ss)\n",
        "# plt.show\n",
        "# # کامنت کنید و سپس به سوال بعدی بروید"
      ]
    },
    {
      "cell_type": "markdown",
      "metadata": {
        "id": "dyQ73SSOfC54"
      },
      "source": [
        "# سوال هفت: در کل این سال ها بیشترین تعطیلات و کمترین تعطیلات مربوط به کدام ماه است؟\n",
        "# با نمودار میله ای نشان دهید از فروردین تا خرداد"
      ]
    },
    {
      "cell_type": "code",
      "execution_count": 15,
      "metadata": {
        "id": "6bfdQwOvcbMN"
      },
      "outputs": [],
      "source": [
        "# big_boy = df['month']\n",
        "# r_F = big_boy.value_counts()\n",
        "# pp = r_F.sort_index()\n",
        "# big_long_vacation = pp.iloc[:3]\n",
        "\n",
        "# Max=big_long_vacation.max()\n",
        "# Min=big_long_vacation.min()\n",
        "# imax=big_long_vacation.idxmax()\n",
        "# imin=big_long_vacation.idxmin()\n",
        "# fig = plt.figure()\n",
        "# ax = fig.add_axes([0,0,1,1])\n",
        "# ss = [Max,Min]\n",
        "# lan = [imax,imin]\n",
        "# ax.bar(lan,ss)\n",
        "# plt.show"
      ]
    },
    {
      "cell_type": "markdown",
      "metadata": {
        "id": "UuGjgJK3fe-e"
      },
      "source": [
        "# سوال هشت: بیشترین تعطیلی پشت سر هم مربوط به چه تاریخی است؟"
      ]
    },
    {
      "cell_type": "code",
      "execution_count": null,
      "metadata": {
        "id": "bhgqovsxcbJv"
      },
      "outputs": [],
      "source": []
    },
    {
      "cell_type": "markdown",
      "metadata": {},
      "source": [
        "سوال جدید کدام روزها از ماه در کل سال ها بیشترین تعطیلی را دارد#"
      ]
    },
    {
      "cell_type": "code",
      "execution_count": 21,
      "metadata": {},
      "outputs": [
        {
          "data": {
            "text/plain": [
              "01     93\n",
              "02    101\n",
              "03     86\n",
              "04     98\n",
              "05     41\n",
              "06     39\n",
              "07     34\n",
              "08     37\n",
              "09     32\n",
              "10     35\n",
              "11     34\n",
              "12     94\n",
              "13     93\n",
              "14     92\n",
              "15    107\n",
              "16     34\n",
              "17     34\n",
              "18     37\n",
              "19     43\n",
              "20     31\n",
              "21     27\n",
              "22     96\n",
              "23     37\n",
              "24     32\n",
              "25     39\n",
              "26     35\n",
              "27     40\n",
              "28     34\n",
              "29     99\n",
              "30     43\n",
              "31     17\n",
              "Name: day, dtype: int64"
            ]
          },
          "execution_count": 21,
          "metadata": {},
          "output_type": "execute_result"
        }
      ],
      "source": [
        "F_day = df['day']\n",
        "day_F = F_day.value_counts()\n",
        "day_day = day_F.sort_index()\n",
        "day_day\n",
        "\n",
        "# برای نشان دادن نمودار   کد های زیر را از کامنت در بیاور# \n",
        "\n",
        "# ---------------------\n",
        "# with pie \n",
        "# -----------------------\n",
        "# plt.pie(day_day,autopct='%2.1f%%',figsize=(5, 5))\n",
        "# plt.show\n",
        "\n",
        "\n",
        "# ------------------------\n",
        "# with Bar\n",
        "# -----------------------\n",
        "# Max=day_day.max()\n",
        "# Min=day_day.min()\n",
        "# imax=day_day.idxmax()\n",
        "# imin=day_day.idxmin()\n",
        "# fig = plt.figure()\n",
        "# ax = fig.add_axes([0,0,1,1])\n",
        "# ss = [Max,Min]\n",
        "# lan = [imax,imin]\n",
        "# ax.bar(lan,ss)\n",
        "# plt.show"
      ]
    },
    {
      "cell_type": "markdown",
      "metadata": {},
      "source": [
        "سوال اضافی 🌂🚽:درصد تعطیلات مختلف را با نمودار \n",
        "pie?"
      ]
    },
    {
      "cell_type": "code",
      "execution_count": 17,
      "metadata": {},
      "outputs": [
        {
          "data": {
            "text/plain": [
              "<function matplotlib.pyplot.show(close=None, block=None)>"
            ]
          },
          "execution_count": 17,
          "metadata": {},
          "output_type": "execute_result"
        },
        {
          "data": {
            "image/png": "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",
            "text/plain": [
              "<Figure size 432x288 with 1 Axes>"
            ]
          },
          "metadata": {},
          "output_type": "display_data"
        }
      ],
      "source": [
        "r = df['reason']\n",
        "fg = r.value_counts()\n",
        "plt.pie(fg,autopct='%2.1f%%')\n",
        "plt.show\n"
      ]
    }
  ],
  "metadata": {
    "colab": {
      "name": "Iran'sHolidaysEDA.ipynb",
      "provenance": []
    },
    "kernelspec": {
      "display_name": "Python 3.10.5 64-bit",
      "language": "python",
      "name": "python3"
    },
    "language_info": {
      "codemirror_mode": {
        "name": "ipython",
        "version": 3
      },
      "file_extension": ".py",
      "mimetype": "text/x-python",
      "name": "python",
      "nbconvert_exporter": "python",
      "pygments_lexer": "ipython3",
      "version": "3.10.5"
    },
    "vscode": {
      "interpreter": {
        "hash": "25a19fbe0a9132dfb9279d48d161753c6352f8f9478c2e74383d340069b907c3"
      }
    }
  },
  "nbformat": 4,
  "nbformat_minor": 0
}
